{
 "cells": [
  {
   "cell_type": "code",
   "execution_count": 6,
   "metadata": {},
   "outputs": [],
   "source": [
    "import json\n",
    "import pandas as pd"
   ]
  },
  {
   "cell_type": "code",
   "execution_count": 22,
   "metadata": {},
   "outputs": [],
   "source": [
    "# Load yelp_academic_dataset_review_00 \n",
    "review_dataset = []\n",
    "with open('data/yelp_academic_dataset_review_00') as f:\n",
    "\tfor line in f:\n",
    "\t\tdata = json.loads(line)\n",
    "\t\treview_dataset.append(data)\n"
   ]
  },
  {
   "cell_type": "code",
   "execution_count": 24,
   "metadata": {},
   "outputs": [
    {
     "name": "stdout",
     "output_type": "stream",
     "text": [
      "{'review_id': 'lWC-xP3rd6obsecCYsGZRg', 'user_id': 'ak0TdVmGKo4pwqdJSTLwWw', 'business_id': 'buF9druCkbuXLX526sGELQ', 'stars': 4.0, 'useful': 3, 'funny': 1, 'cool': 1, 'text': \"Apparently Prides Osteria had a rough summer as evidenced by the almost empty dining room at 6:30 on a Friday night. However new blood in the kitchen seems to have revitalized the food from other customers recent visits. Waitstaff was warm but unobtrusive. By 8 pm or so when we left the bar was full and the dining room was much more lively than it had been. Perhaps Beverly residents prefer a later seating. \\n\\nAfter reading the mixed reviews of late I was a little tentative over our choice but luckily there was nothing to worry about in the food department. We started with the fried dough, burrata and prosciutto which were all lovely. Then although they don't offer half portions of pasta we each ordered the entree size and split them. We chose the tagliatelle bolognese and a four cheese filled pasta in a creamy sauce with bacon, asparagus and grana frita. Both were very good. We split a secondi which was the special Berkshire pork secreto, which was described as a pork skirt steak with garlic potato purée and romanesco broccoli (incorrectly described as a romanesco sauce). Some tables received bread before the meal but for some reason we did not. \\n\\nManagement also seems capable for when the tenants in the apartment above began playing basketball she intervened and also comped the tables a dessert. We ordered the apple dumpling with gelato and it was also quite tasty. Portions are not huge which I particularly like because I prefer to order courses. If you are someone who orders just a meal you may leave hungry depending on you appetite. Dining room was mostly younger crowd while the bar was definitely the over 40 set. Would recommend that the naysayers return to see the improvement although I personally don't know the former glory to be able to compare. Easy access to downtown Salem without the crowds on this month of October.\", 'date': '2014-10-11 03:34:02'}\n"
     ]
    }
   ],
   "source": [
    "print(review_dataset[0])"
   ]
  },
  {
   "cell_type": "code",
   "execution_count": 25,
   "metadata": {},
   "outputs": [],
   "source": [
    "# Remove stop words\n",
    "from nltk.corpus import stopwords\n",
    "stop = stopwords.words('english')\n",
    "review_text = []\n",
    "for i in review_dataset:\n",
    "\treview_text.append(' '.join([word for word in i['text'].lower().split() if word not in stop]))"
   ]
  },
  {
   "cell_type": "code",
   "execution_count": 26,
   "metadata": {},
   "outputs": [
    {
     "name": "stdout",
     "output_type": "stream",
     "text": [
      "apparently prides osteria rough summer evidenced almost empty dining room 6:30 friday night. however new blood kitchen seems revitalized food customers recent visits. waitstaff warm unobtrusive. 8 pm left bar full dining room much lively been. perhaps beverly residents prefer later seating. reading mixed reviews late little tentative choice luckily nothing worry food department. started fried dough, burrata prosciutto lovely. although offer half portions pasta ordered entree size split them. chose tagliatelle bolognese four cheese filled pasta creamy sauce bacon, asparagus grana frita. good. split secondi special berkshire pork secreto, described pork skirt steak garlic potato purée romanesco broccoli (incorrectly described romanesco sauce). tables received bread meal reason not. management also seems capable tenants apartment began playing basketball intervened also comped tables dessert. ordered apple dumpling gelato also quite tasty. portions huge particularly like prefer order courses. someone orders meal may leave hungry depending appetite. dining room mostly younger crowd bar definitely 40 set. would recommend naysayers return see improvement although personally know former glory able compare. easy access downtown salem without crowds month october.\n"
     ]
    }
   ],
   "source": [
    "print(review_text[0])"
   ]
  },
  {
   "cell_type": "code",
   "execution_count": 27,
   "metadata": {},
   "outputs": [],
   "source": [
    "# Remove punctuation\n",
    "import string\n",
    "table = str.maketrans('', '', string.punctuation)\n",
    "review_text = [i.translate(table) for i in review_text]\n"
   ]
  },
  {
   "cell_type": "code",
   "execution_count": 28,
   "metadata": {},
   "outputs": [
    {
     "name": "stdout",
     "output_type": "stream",
     "text": [
      "apparently prides osteria rough summer evidenced almost empty dining room 630 friday night however new blood kitchen seems revitalized food customers recent visits waitstaff warm unobtrusive 8 pm left bar full dining room much lively been perhaps beverly residents prefer later seating reading mixed reviews late little tentative choice luckily nothing worry food department started fried dough burrata prosciutto lovely although offer half portions pasta ordered entree size split them chose tagliatelle bolognese four cheese filled pasta creamy sauce bacon asparagus grana frita good split secondi special berkshire pork secreto described pork skirt steak garlic potato purée romanesco broccoli incorrectly described romanesco sauce tables received bread meal reason not management also seems capable tenants apartment began playing basketball intervened also comped tables dessert ordered apple dumpling gelato also quite tasty portions huge particularly like prefer order courses someone orders meal may leave hungry depending appetite dining room mostly younger crowd bar definitely 40 set would recommend naysayers return see improvement although personally know former glory able compare easy access downtown salem without crowds month october\n"
     ]
    }
   ],
   "source": [
    "print(review_text[0])"
   ]
  }
 ],
 "metadata": {
  "interpreter": {
   "hash": "31f2aee4e71d21fbe5cf8b01ff0e069b9275f58929596ceb00d14d90e3e16cd6"
  },
  "kernelspec": {
   "display_name": "Python 3.7.3 64-bit",
   "language": "python",
   "name": "python3"
  },
  "language_info": {
   "codemirror_mode": {
    "name": "ipython",
    "version": 3
   },
   "file_extension": ".py",
   "mimetype": "text/x-python",
   "name": "python",
   "nbconvert_exporter": "python",
   "pygments_lexer": "ipython3",
   "version": "3.9.7"
  },
  "orig_nbformat": 4
 },
 "nbformat": 4,
 "nbformat_minor": 2
}
